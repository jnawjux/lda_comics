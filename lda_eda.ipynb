{
 "cells": [
  {
   "cell_type": "code",
   "execution_count": 1,
   "metadata": {},
   "outputs": [],
   "source": [
    "import pandas as pd\n",
    "import numpy as np\n",
    "\n",
    "import pyspark\n",
    "from pyspark.sql.functions import col\n",
    "from pyspark.sql import SQLContext\n",
    "\n",
    "import nltk\n",
    "from nltk.corpus import stopwords\n",
    "from nltk.stem.porter import PorterStemmer\n",
    "from nltk import FreqDist\n",
    "\n",
    "import gensim\n",
    "from gensim.models import LdaModel\n",
    "from gensim import models, corpora, similarities\n",
    "\n",
    "from scipy.stats import entropy\n",
    "\n",
    "import time\n",
    "import re"
   ]
  },
  {
   "cell_type": "code",
   "execution_count": 2,
   "metadata": {},
   "outputs": [],
   "source": [
    "spark = (pyspark.sql.SparkSession.builder\n",
    "    .master(\"local\")\n",
    "    .getOrCreate())"
   ]
  },
  {
   "cell_type": "code",
   "execution_count": 3,
   "metadata": {},
   "outputs": [],
   "source": [
    "books_df = spark.read.json('data/goodreads_books_comics_graphic.json')"
   ]
  },
  {
   "cell_type": "code",
   "execution_count": 4,
   "metadata": {},
   "outputs": [
    {
     "name": "stdout",
     "output_type": "stream",
     "text": [
      "root\n",
      " |-- asin: string (nullable = true)\n",
      " |-- authors: array (nullable = true)\n",
      " |    |-- element: struct (containsNull = true)\n",
      " |    |    |-- author_id: string (nullable = true)\n",
      " |    |    |-- role: string (nullable = true)\n",
      " |-- average_rating: string (nullable = true)\n",
      " |-- book_id: string (nullable = true)\n",
      " |-- country_code: string (nullable = true)\n",
      " |-- description: string (nullable = true)\n",
      " |-- edition_information: string (nullable = true)\n",
      " |-- format: string (nullable = true)\n",
      " |-- image_url: string (nullable = true)\n",
      " |-- is_ebook: string (nullable = true)\n",
      " |-- isbn: string (nullable = true)\n",
      " |-- isbn13: string (nullable = true)\n",
      " |-- kindle_asin: string (nullable = true)\n",
      " |-- language_code: string (nullable = true)\n",
      " |-- link: string (nullable = true)\n",
      " |-- num_pages: string (nullable = true)\n",
      " |-- popular_shelves: array (nullable = true)\n",
      " |    |-- element: struct (containsNull = true)\n",
      " |    |    |-- count: string (nullable = true)\n",
      " |    |    |-- name: string (nullable = true)\n",
      " |-- publication_day: string (nullable = true)\n",
      " |-- publication_month: string (nullable = true)\n",
      " |-- publication_year: string (nullable = true)\n",
      " |-- publisher: string (nullable = true)\n",
      " |-- ratings_count: string (nullable = true)\n",
      " |-- series: array (nullable = true)\n",
      " |    |-- element: string (containsNull = true)\n",
      " |-- similar_books: array (nullable = true)\n",
      " |    |-- element: string (containsNull = true)\n",
      " |-- text_reviews_count: string (nullable = true)\n",
      " |-- title: string (nullable = true)\n",
      " |-- title_without_series: string (nullable = true)\n",
      " |-- url: string (nullable = true)\n",
      " |-- work_id: string (nullable = true)\n",
      "\n"
     ]
    }
   ],
   "source": [
    "books_df.printSchema()"
   ]
  },
  {
   "cell_type": "code",
   "execution_count": 5,
   "metadata": {},
   "outputs": [],
   "source": [
    "books = books_df.select(['book_id', 'popular_shelves', 'title', 'description']).toPandas()"
   ]
  },
  {
   "cell_type": "code",
   "execution_count": 15,
   "metadata": {},
   "outputs": [
    {
     "data": {
      "text/plain": [
       "[Row(count='493', name='to-read'),\n",
       " Row(count='113', name='graphic-novels'),\n",
       " Row(count='102', name='comics'),\n",
       " Row(count='97', name='marvel'),\n",
       " Row(count='36', name='captain-america'),\n",
       " Row(count='35', name='graphic-novel'),\n",
       " Row(count='32', name='comic-books'),\n",
       " Row(count='31', name='currently-reading'),\n",
       " Row(count='23', name='superheroes'),\n",
       " Row(count='22', name='favorites'),\n",
       " Row(count='20', name='marvel-comics'),\n",
       " Row(count='20', name='comics-graphic-novels'),\n",
       " Row(count='19', name='superhero'),\n",
       " Row(count='18', name='comic'),\n",
       " Row(count='17', name='fiction'),\n",
       " Row(count='12', name='graphic-novels-comics'),\n",
       " Row(count='11', name='owned'),\n",
       " Row(count='10', name='comics-and-graphic-novels'),\n",
       " Row(count='10', name='comics-read'),\n",
       " Row(count='7', name='read-in-2014'),\n",
       " Row(count='5', name='comics-marvel'),\n",
       " Row(count='5', name='read-in-2015'),\n",
       " Row(count='5', name='marvel-unlimited'),\n",
       " Row(count='5', name='ebook'),\n",
       " Row(count='5', name='read-comics'),\n",
       " Row(count='5', name='super-hero'),\n",
       " Row(count='4', name='comic-book'),\n",
       " Row(count='4', name='comixology'),\n",
       " Row(count='4', name='books-i-own'),\n",
       " Row(count='4', name='graphic-novels-and-comics'),\n",
       " Row(count='4', name='graphic'),\n",
       " Row(count='4', name='espionage'),\n",
       " Row(count='3', name='comics-gn'),\n",
       " Row(count='3', name='graphic-novel-comics'),\n",
       " Row(count='3', name='series'),\n",
       " Row(count='3', name='sci-fi'),\n",
       " Row(count='3', name='universo-marvel'),\n",
       " Row(count='3', name='comics-graphicnovels'),\n",
       " Row(count='3', name='comics-manga-graphic-novels'),\n",
       " Row(count='3', name='manga-comics'),\n",
       " Row(count='3', name='e-books'),\n",
       " Row(count='3', name='e-book'),\n",
       " Row(count='3', name='digital'),\n",
       " Row(count='3', name='my-books'),\n",
       " Row(count='3', name='library-books'),\n",
       " Row(count='3', name='comics-to-read'),\n",
       " Row(count='3', name='brubaker'),\n",
       " Row(count='3', name='english'),\n",
       " Row(count='2', name='unfinished'),\n",
       " Row(count='2', name='default'),\n",
       " Row(count='2', name='kindle'),\n",
       " Row(count='2', name='quadrinhos'),\n",
       " Row(count='2', name='4-stars'),\n",
       " Row(count='2', name='graphics'),\n",
       " Row(count='2', name='hq'),\n",
       " Row(count='2', name='read-in-2016'),\n",
       " Row(count='2', name='to-buy'),\n",
       " Row(count='2', name='comicbooks'),\n",
       " Row(count='2', name='on-my-bookshelf'),\n",
       " Row(count='2', name='graphic-novels-read'),\n",
       " Row(count='2', name='science-fiction'),\n",
       " Row(count='2', name='comics-manga'),\n",
       " Row(count='2', name='comic-americano'),\n",
       " Row(count='2', name='ed-arg'),\n",
       " Row(count='2', name='read-2015'),\n",
       " Row(count='2', name='winter-soldier'),\n",
       " Row(count='2', name='fumetti'),\n",
       " Row(count='2', name='usa'),\n",
       " Row(count='2', name='owned-books'),\n",
       " Row(count='2', name='comic-books-and-graphic-novels'),\n",
       " Row(count='2', name='2014-reads'),\n",
       " Row(count='2', name='comics-graphic-novels-manga'),\n",
       " Row(count='2', name='adventure'),\n",
       " Row(count='2', name='male-authors'),\n",
       " Row(count='2', name='favorite-books'),\n",
       " Row(count='2', name='fantasy'),\n",
       " Row(count='2', name='superhero-comics'),\n",
       " Row(count='2', name='graphic_novels'),\n",
       " Row(count='2', name='tyler'),\n",
       " Row(count='2', name='marvel-graphic-novels'),\n",
       " Row(count='2', name='sequential-art'),\n",
       " Row(count='2', name='series-marvel'),\n",
       " Row(count='2', name='borrowed'),\n",
       " Row(count='1', name='komiks'),\n",
       " Row(count='1', name='srpski'),\n",
       " Row(count='1', name='stripovi'),\n",
       " Row(count='1', name='kindle-unlimited'),\n",
       " Row(count='1', name='organize-in-excel'),\n",
       " Row(count='1', name='12-modificaçoes-a-fazer'),\n",
       " Row(count='1', name='marvel-collection'),\n",
       " Row(count='1', name='graphic-read'),\n",
       " Row(count='1', name='2017-reading-challenge'),\n",
       " Row(count='1', name='all-things-marvel-related'),\n",
       " Row(count='1', name='marvel-reading-order'),\n",
       " Row(count='1', name='books-added-in-2012'),\n",
       " Row(count='1', name='stark-spangled-banner'),\n",
       " Row(count='1', name='saw-the-movie'),\n",
       " Row(count='1', name='read-in-august-2017'),\n",
       " Row(count='1', name='read-in-2017'),\n",
       " Row(count='1', name='one-day-reads')]"
      ]
     },
     "execution_count": 15,
     "metadata": {},
     "output_type": "execute_result"
    }
   ],
   "source": [
    "books.popular_shelves[2]"
   ]
  },
  {
   "cell_type": "code",
   "execution_count": null,
   "metadata": {},
   "outputs": [],
   "source": []
  }
 ],
 "metadata": {
  "kernelspec": {
   "display_name": "Python 3",
   "language": "python",
   "name": "python3"
  },
  "language_info": {
   "codemirror_mode": {
    "name": "ipython",
    "version": 3
   },
   "file_extension": ".py",
   "mimetype": "text/x-python",
   "name": "python",
   "nbconvert_exporter": "python",
   "pygments_lexer": "ipython3",
   "version": "3.6.6"
  }
 },
 "nbformat": 4,
 "nbformat_minor": 2
}
